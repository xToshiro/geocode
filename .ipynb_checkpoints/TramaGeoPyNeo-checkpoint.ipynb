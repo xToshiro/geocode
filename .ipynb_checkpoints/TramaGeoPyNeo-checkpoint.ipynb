{
 "cells": [
  {
   "cell_type": "markdown",
   "id": "955203aa-8279-423e-bb96-ff7560a1e699",
   "metadata": {},
   "source": [
    "# Coded by Jairo Ivo\n",
    "# Talk is cheap. Show me the code. ― Linus Torvalds\n",
    "\n",
    "# TramaGeoPyNeov1"
   ]
  },
  {
   "cell_type": "code",
   "execution_count": 1,
   "id": "a5356fb9-ca20-457a-80f5-ecd0ca4a5e3f",
   "metadata": {},
   "outputs": [],
   "source": [
    "#Bibliotecas\n",
    "import pandas as pd\n",
    "import os\n",
    "import json\n",
    "from datetime import datetime\n",
    "import requests\n",
    "from tqdm.auto import tqdm"
   ]
  },
  {
   "cell_type": "code",
   "execution_count": 2,
   "id": "48720f6b-f3bf-483e-b723-399b1b29b6a2",
   "metadata": {},
   "outputs": [],
   "source": [
    "# Configurações\n",
    "data_input = 'dadosgeocode2018T1.csv' # Arquivo de input\n",
    "data_output = 'dadosgeocodificados2018T1V1.csv' # Arquivo de output\n",
    "cache_file = 'geocodeNEO_cacheV1.json' # Arquivo de cache\n",
    "log_file = 'process_logNEOv1.txt' # Arquivo de logs\n",
    "nominatim_ip = 'http://10.102.65.194/nominatim/' # Ip de maquina local ou nuvem\n",
    "country = 'Brazil' # País padrão dos dados"
   ]
  },
  {
   "cell_type": "code",
   "execution_count": 3,
   "id": "7c24373d-05c6-4ace-97b4-41926c82c6a0",
   "metadata": {},
   "outputs": [],
   "source": [
    "# Configuração das colunas de endereços\n",
    "address_config = {\n",
    "    'emi': {\n",
    "        'cep_col': 'CEP_EMI',\n",
    "        'municipio_col': 'MUNICIPIO_EMI',\n",
    "        'uf_col': 'UF_EMI',\n",
    "        'lat_col': 'latitude_emi',\n",
    "        'lon_col': 'longitude_emi',\n",
    "        'processed_col': 'emi_processed',\n",
    "        'precision_col': 'emi_precision',\n",
    "        'source_col': 'emi_source'\n",
    "    },\n",
    "    'des': {\n",
    "        'cep_col': 'CEP_DES',\n",
    "        'municipio_col': 'MUNICIPIO_DES',\n",
    "        'uf_col': 'UF_DES',\n",
    "        'lat_col': 'latitude_des',\n",
    "        'lon_col': 'longitude_des',\n",
    "        'processed_col': 'des_processed',\n",
    "        'precision_col': 'des_precision',\n",
    "        'source_col': 'des_source'\n",
    "    }\n",
    "}"
   ]
  },
  {
   "cell_type": "code",
   "execution_count": 4,
   "id": "6e043ba7-eb03-4624-8f58-bcdfaf34dfbc",
   "metadata": {},
   "outputs": [],
   "source": [
    "# Função para registrar no log\n",
    "def log_message(message):\n",
    "    with open(log_file, \"a\") as log:\n",
    "        log.write(f\"{datetime.now()}: {message}\\n\")\n",
    "        #print(f\"{datetime.now()}: {message}\\n\")"
   ]
  },
  {
   "cell_type": "code",
   "execution_count": 5,
   "id": "dbd95f02-bc30-4710-a0e2-1454497261f8",
   "metadata": {},
   "outputs": [],
   "source": [
    "# Função para verificar e carregar o arquivo de input\n",
    "def load_input_file():\n",
    "    if os.path.exists(data_input):\n",
    "        df = pd.read_csv(data_input, low_memory=False)\n",
    "        log_message(f\"Arquivo de entrada {data_input} carregado com sucesso.\")\n",
    "        return df\n",
    "    else:\n",
    "        log_message(f\"Erro: O arquivo de entrada {data_input} não foi encontrado.\")\n",
    "        raise FileNotFoundError(f\"O arquivo de entrada {data_input} não foi encontrado.\")\n"
   ]
  },
  {
   "cell_type": "code",
   "execution_count": 6,
   "id": "4dba54b7-6fc5-475c-8ccf-81540deb03f1",
   "metadata": {},
   "outputs": [],
   "source": [
    "# Função para carregar ou inicializar o arquivo de output\n",
    "def load_or_initialize_output_file(df_input):\n",
    "    if os.path.exists(data_output):\n",
    "        df_output = pd.read_csv(data_output, low_memory=False)\n",
    "        log_message(f\"Arquivo de saída {data_output} carregado com sucesso.\")\n",
    "    else:\n",
    "        df_output = prepare_output_dataframe(df_input)\n",
    "        df_output.to_csv(data_output, index=False)\n",
    "        log_message(f\"Arquivo de saída {data_output} criado com sucesso.\")\n",
    "    return df_output\n"
   ]
  },
  {
   "cell_type": "code",
   "execution_count": 7,
   "id": "ba433e6d-7526-4b9e-b97f-38ce7806dc42",
   "metadata": {},
   "outputs": [],
   "source": [
    "def prepare_output_dataframe(df):\n",
    "    for key, config in address_config.items():\n",
    "        # Inicializa ou converte as colunas para os tipos desejados diretamente, sem usar .get()\n",
    "        if config['lat_col'] not in df.columns:\n",
    "            df[config['lat_col']] = 0.0  # Define um valor padrão para a coluna se ela não existir\n",
    "        df[config['lat_col']] = pd.to_numeric(df[config['lat_col']], errors='coerce').astype(float)\n",
    "        \n",
    "        if config['lon_col'] not in df.columns:\n",
    "            df[config['lon_col']] = 0.0\n",
    "        df[config['lon_col']] = pd.to_numeric(df[config['lon_col']], errors='coerce').astype(float)\n",
    "        \n",
    "        if config['processed_col'] not in df.columns:\n",
    "            df[config['processed_col']] = False\n",
    "        df[config['processed_col']] = df[config['processed_col']].astype(bool)\n",
    "        \n",
    "        if config['precision_col'] not in df.columns:\n",
    "            df[config['precision_col']] = 0\n",
    "        df[config['precision_col']] = pd.to_numeric(df[config['precision_col']], errors='coerce').astype(int)\n",
    "        \n",
    "        if config['source_col'] not in df.columns:\n",
    "            df[config['source_col']] = ''\n",
    "        df[config['source_col']] = df[config['source_col']].astype(str)\n",
    "\n",
    "    log_message(\"DataFrame de saída preparado com sucesso.\")\n",
    "    return df"
   ]
  },
  {
   "cell_type": "code",
   "execution_count": 8,
   "id": "3db9df8e-8403-47f3-a65e-aa3ab9bbaa83",
   "metadata": {},
   "outputs": [],
   "source": [
    "def load_or_create_cache():\n",
    "    if os.path.exists(cache_file):\n",
    "        with open(cache_file, 'r') as f:\n",
    "            cache = json.load(f)\n",
    "        log_message(f\"Arquivo de cache carregado com sucesso: {cache_file}\")\n",
    "    else:\n",
    "        cache = {}\n",
    "        log_message(f\"Arquivo de cache não encontrado. Um novo cache será criado: {cache_file}\")\n",
    "    return cache\n"
   ]
  },
  {
   "cell_type": "code",
   "execution_count": 9,
   "id": "b1d3bdb1-58d2-49b1-8884-8b289a13231c",
   "metadata": {},
   "outputs": [],
   "source": [
    "# Função para salvar o cache atualizado\n",
    "def save_cache(cache):\n",
    "    with open(cache_file, 'w') as f:\n",
    "        json.dump(cache, f, indent=4)\n"
   ]
  },
  {
   "cell_type": "code",
   "execution_count": 10,
   "id": "c7bd4f5c-b235-4655-bfe7-b0183ad1e719",
   "metadata": {},
   "outputs": [],
   "source": [
    "# Função para geocodificar endereços usando a API Nominatim local\n",
    "def geocode_address(query):\n",
    "    try:\n",
    "        request_url = f\"{nominatim_ip}search?q={query}&format=json&addressdetails=1&countrycodes=br\"\n",
    "        # Define o timeout para a solicitação como 30 segundos\n",
    "        response = requests.get(request_url, timeout=30)\n",
    "        results = response.json()\n",
    "        if results:\n",
    "            result = results[0]  # Assume o primeiro resultado como o mais relevante\n",
    "            lat = float(result['lat'])\n",
    "            lon = float(result['lon'])\n",
    "            return {'lat': lat, 'lon': lon}\n",
    "    except requests.exceptions.Timeout:\n",
    "        # Registra um log em caso de timeout\n",
    "        log_message(f\"Timeout na geocodificação para a query: {query}\")\n",
    "    except Exception as e:\n",
    "        log_message(f\"Erro na geocodificação: {e}\")\n",
    "    return None\n"
   ]
  },
  {
   "cell_type": "code",
   "execution_count": 11,
   "id": "2f425e5c-3b78-4df5-8900-87f5a7b2f850",
   "metadata": {},
   "outputs": [],
   "source": [
    "# Função para inicializar o arquivo de log\n",
    "def initialize_log_file():\n",
    "    if not os.path.exists(log_file):\n",
    "        with open(log_file, 'w') as f:\n",
    "            f.write(\"\")  # Cria um arquivo de log vazio\n",
    "    log_message(\"Inicialização do script de processamento de dados.\")\n"
   ]
  },
  {
   "cell_type": "code",
   "execution_count": 12,
   "id": "cca568d5-49ed-4f9c-9670-6a2893339991",
   "metadata": {},
   "outputs": [],
   "source": [
    "# Atualiza a função de geocodificação com cache e API para incluir os ajustes de tipo\n",
    "def geocode_with_cache_and_api(df, address_type):\n",
    "    cache = load_or_create_cache()\n",
    "    processed_count = 0\n",
    "    to_process = df[df[address_config[address_type]['processed_col']] == False]\n",
    "    log_message(f\"Iniciando geocodificação para {address_type}. Total de endereços a processar: {len(to_process)}.\")\n",
    "\n",
    "    for index in tqdm(to_process.index, desc=f\"Geocodificando {address_type}\"):\n",
    "        row = df.loc[index]\n",
    "        success = False\n",
    "        for precision_level in [3, 2, 1]:\n",
    "            # Ajuste na formação da query para usar o nome do município ao invés de códigos numéricos\n",
    "            query_parts = [str(row[address_config[address_type][field]]) for field in ['cep_col', 'municipio_col', 'uf_col'][:precision_level]]\n",
    "            if precision_level == 3:  # CEP, Município, UF\n",
    "                query = f\"{query_parts[0]}, {query_parts[1]}, {query_parts[2]}, {country}\"\n",
    "            elif precision_level == 2:  # CEP, Município\n",
    "                query = f\"{query_parts[0]}, {query_parts[1]}, {country}\"\n",
    "            else:  # CEP\n",
    "                query = f\"{query_parts[0]}, {country}\"\n",
    "\n",
    "            cache_key = \"-\".join(query_parts)\n",
    "\n",
    "            if cache_key in cache:\n",
    "                data = cache[cache_key]\n",
    "                source = 'CACHE'\n",
    "            else:\n",
    "                geocoded_data = geocode_address(query)\n",
    "                if geocoded_data:\n",
    "                    data = {'lat': geocoded_data['lat'], 'lon': geocoded_data['lon'], 'precision': precision_level}\n",
    "                    cache[cache_key] = data\n",
    "                    source = 'API'\n",
    "                else:\n",
    "                    continue  # Falha na geocodificação, tenta o próximo nível de precisão\n",
    "\n",
    "            # Atualização do DataFrame\n",
    "            df.at[index, address_config[address_type]['lat_col']] = data['lat']\n",
    "            df.at[index, address_config[address_type]['lon_col']] = data['lon']\n",
    "            df.at[index, address_config[address_type]['precision_col']] = data['precision']\n",
    "            df.at[index, address_config[address_type]['source_col']] = source\n",
    "            df.at[index, address_config[address_type]['processed_col']] = True\n",
    "            success = True\n",
    "            break  # Sai do loop após sucesso na geocodificação\n",
    "\n",
    "        if not success:\n",
    "            df.at[index, address_config[address_type]['processed_col']] = False\n",
    "            log_message(f\"Endereço '{cache_key}' não geocodificado com sucesso.\")\n",
    "\n",
    "        processed_count += 1\n",
    "        if processed_count % 10000 == 0:\n",
    "            df.to_csv(data_output, index=False)\n",
    "            save_cache(cache)\n",
    "            log_message(f\"Progresso salvo após processar {processed_count} endereços de {address_type}.\")\n",
    "            log_message(\"Cache atualizado.\")\n",
    "\n",
    "    save_cache(cache)\n",
    "    df.to_csv(data_output, index=False)  # Salva os dados ao final do processamento\n",
    "    log_message(f\"Geocodificação para {address_type} concluída.\")\n",
    "    return df"
   ]
  },
  {
   "cell_type": "code",
   "execution_count": 13,
   "id": "9c9895fd-44cb-4402-b51d-33fc9a7109a8",
   "metadata": {},
   "outputs": [],
   "source": [
    "#Principais funções para executar e ordem de geocodificação;\n",
    "def main():\n",
    "    initialize_log_file()\n",
    "    if not os.path.exists(data_input):\n",
    "        log_message(f\"Arquivo de entrada não encontrado: {data_input}\")\n",
    "        print(f\"Arquivo de entrada não encontrado: {data_input}\")\n",
    "        return\n",
    "\n",
    "    df_input = load_input_file()\n",
    "    df_output = load_or_initialize_output_file(df_input)\n",
    "    df_output = prepare_output_dataframe(df_output)  # Garante que o DataFrame esteja preparado\n",
    "    df_output = geocode_with_cache_and_api(df_output, 'emi')\n",
    "    log_message(\"Geocodificação dos dados de emissão completa.\")\n",
    "    print(\"Geocodificação dos dados de emissão completa.\")\n",
    "    df_output = geocode_with_cache_and_api(df_output, 'des')\n",
    "    log_message(\"Geocodificação dos dados de destino completa.\")\n",
    "    print(\"Geocodificação dos dados de destino completa.\")\n",
    "    df_output.to_csv(data_output, index=False)  # Salva o DataFrame final\n",
    "    log_message(\"Geocodificação completa. Dados salvos.\")\n",
    "    print(\"Geocodificação completa. Dados salvos.\")\n"
   ]
  },
  {
   "cell_type": "code",
   "execution_count": null,
   "id": "b190a015-0a80-4bb3-9ef1-0308b9d7871f",
   "metadata": {},
   "outputs": [
    {
     "data": {
      "application/vnd.jupyter.widget-view+json": {
       "model_id": "fcd7b162d6f1419cb577de60f30fd789",
       "version_major": 2,
       "version_minor": 0
      },
      "text/plain": [
       "Geocodificando emi:   0%|          | 0/1692 [00:00<?, ?it/s]"
      ]
     },
     "metadata": {},
     "output_type": "display_data"
    },
    {
     "data": {
      "application/vnd.jupyter.widget-view+json": {
       "model_id": "d73e5725be8d4988948ed19a60321cad",
       "version_major": 2,
       "version_minor": 0
      },
      "text/plain": [
       "Geocodificando des:   0%|          | 0/3000676 [00:00<?, ?it/s]"
      ]
     },
     "metadata": {},
     "output_type": "display_data"
    }
   ],
   "source": [
    "if __name__ == \"__main__\":\n",
    "    main()"
   ]
  },
  {
   "cell_type": "code",
   "execution_count": null,
   "id": "86cd5353-10a4-4c86-808c-d51be2b37b28",
   "metadata": {},
   "outputs": [],
   "source": []
  }
 ],
 "metadata": {
  "kernelspec": {
   "display_name": "Python 3 (ipykernel)",
   "language": "python",
   "name": "python3"
  },
  "language_info": {
   "codemirror_mode": {
    "name": "ipython",
    "version": 3
   },
   "file_extension": ".py",
   "mimetype": "text/x-python",
   "name": "python",
   "nbconvert_exporter": "python",
   "pygments_lexer": "ipython3",
   "version": "3.12.0"
  }
 },
 "nbformat": 4,
 "nbformat_minor": 5
}
